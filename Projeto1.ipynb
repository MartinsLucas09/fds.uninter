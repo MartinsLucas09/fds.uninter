{
  "cells": [
    {
      "cell_type": "markdown",
      "metadata": {
        "id": "view-in-github",
        "colab_type": "text"
      },
      "source": [
        "<a href=\"https://colab.research.google.com/github/MartinsLucas09/fds.uninter/blob/main/Projeto1.ipynb\" target=\"_parent\"><img src=\"https://colab.research.google.com/assets/colab-badge.svg\" alt=\"Open In Colab\"/></a>"
      ]
    },
    {
      "cell_type": "code",
      "execution_count": 1,
      "metadata": {
        "colab": {
          "base_uri": "https://localhost:8080/"
        },
        "id": "L3Ex33QsEAi7",
        "outputId": "c9d9183b-b026-47eb-fe64-d01b7900fd35"
      },
      "outputs": [
        {
          "output_type": "stream",
          "name": "stdout",
          "text": [
            "Digite o preço do produto: 790\n",
            "Digite o desconto(0-100%): 4\n",
            "O preço do produto é: 790.00. O desconto é 4.00%.\n",
            "Valor calculado de desconto:31.60. Valor final do produto: 758.40\n"
          ]
        }
      ],
      "source": [
        "preco = float(input(\"Digite o preço do produto: \"))\n",
        "percentual = float(input('Digite o desconto(0-100%): '))\n",
        "\n",
        "desconto = preco * (percentual / 100)\n",
        "final = preco - desconto\n",
        "print(f'O preço do produto é: {preco:.2f}. O desconto é {percentual:.2f}%.')\n",
        "print(f'Valor calculado de desconto:{desconto:.2f}. Valor final do produto: {final:.2f}')"
      ]
    },
    {
      "cell_type": "code",
      "source": [
        "km = float(input('Digite a quantidade de km percorridos: '))\n",
        "dias = int(input('Digite a quantidade de dias de aluguel: '))\n",
        "\n",
        "total = (dias * 60) + (km * 0.15)\n",
        "print(f'O total a pagar é: {total:.2f}')"
      ],
      "metadata": {
        "colab": {
          "base_uri": "https://localhost:8080/"
        },
        "id": "ORym_wv_AbAD",
        "outputId": "6f3acf28-1898-49de-b2ff-b0831016b48c"
      },
      "execution_count": 4,
      "outputs": [
        {
          "output_type": "stream",
          "name": "stdout",
          "text": [
            "Digite a quantidade de km percorridos: 100\n",
            "Digite a quantidade de dias de aluguel: 10\n",
            "O total a pagar é: 615.00\n"
          ]
        }
      ]
    },
    {
      "cell_type": "code",
      "source": [
        "frase =input('Digite uma frase: ')\n",
        "tam = len(frase)\n",
        "\n",
        "frase2 = frase[:int(tam/2)]\n",
        "print(frase2[-2:])"
      ],
      "metadata": {
        "colab": {
          "base_uri": "https://localhost:8080/"
        },
        "id": "4DI5Q3AyCmnZ",
        "outputId": "7ea60901-e5ca-422a-a8b2-28e4fe12773b"
      },
      "execution_count": 5,
      "outputs": [
        {
          "output_type": "stream",
          "name": "stdout",
          "text": [
            "Digite uma frase: Eu gosto de você\n",
            "to\n"
          ]
        }
      ]
    }
  ],
  "metadata": {
    "colab": {
      "provenance": [],
      "authorship_tag": "ABX9TyMBfKbnqyLX1urcvhkj4Ole",
      "include_colab_link": true
    },
    "kernelspec": {
      "display_name": "Python 3",
      "name": "python3"
    },
    "language_info": {
      "name": "python"
    }
  },
  "nbformat": 4,
  "nbformat_minor": 0
}